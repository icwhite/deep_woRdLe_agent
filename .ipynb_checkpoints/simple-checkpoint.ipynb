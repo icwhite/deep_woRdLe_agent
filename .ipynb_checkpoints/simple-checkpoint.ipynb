{
 "cells": [
  {
   "cell_type": "code",
   "execution_count": 72,
   "id": "40019ca3",
   "metadata": {
    "code_folding": [
     0
    ]
   },
   "outputs": [],
   "source": [
    "# Imports \n",
    "import numpy as np\n",
    "from english_words import english_words_set\n",
    "import gym\n",
    "from gym import spaces\n",
    "from utils.exploration.base_exploration_model import BaseExplorationModel\n",
    "from gym.utils.env_checker import check_env\n",
    "from collections import deque\n",
    "from utils.infrastructure.logger import Logger\n",
    "from utils.infrastructure.schedule_utils import *\n",
    "\n",
    "from collections import defaultdict\n",
    "import re"
   ]
  },
  {
   "cell_type": "code",
   "execution_count": 99,
   "id": "447ae81f",
   "metadata": {
    "code_folding": [
     101,
     141,
     169,
     177
    ]
   },
   "outputs": [],
   "source": [
    "class WordleSimple(gym.Env): \n",
    "    \n",
    "    def __init__(self,\n",
    "                 answer: str = None, \n",
    "                 valid_words: list = None, \n",
    "                 keep_answer_on_reset: bool = False, \n",
    "                 logdir: str = 'data'): \n",
    "        \n",
    "        # Store attributes \n",
    "        assert(valid_words is not None), 'Must pass valid words'\n",
    "        self.valid_words = valid_words\n",
    "        self.n_valid_words = len(self.valid_words)\n",
    "        self.answer = answer if answer is not None else np.random.choice(self.valid_words)\n",
    "        self.keep_answer_on_reset = keep_answer_on_reset\n",
    "        \n",
    "        # Action + Observation Space\n",
    "        self.action_space = gym.spaces.Discrete(self.n_valid_words)\n",
    "        self.observation_space = gym.spaces.Box(low = 0, \n",
    "                                                high = 1, \n",
    "                                                shape = (self.n_valid_words,), \n",
    "                                                dtype = int)\n",
    "\n",
    "        #  self.observation_space = gym.spaces.MultiDiscrete([2] * self.n_valid_words)\n",
    "        \n",
    "        # Init Stuff \n",
    "        self.state = np.ones(len(self.valid_words), dtype = int)\n",
    "        self.guess_count = 0\n",
    "        self.alphabet = list('abcdefghijklmnopqrstuvwxyz')\n",
    "        self.possible_words = self.valid_words\n",
    "        self.n_possible_words = len(self.possible_words)\n",
    "        self.patterns = ['[abcdefghijklmnopqrstuvwxyz]']*5\n",
    "        \n",
    "        # Logging\n",
    "        self.logging_freq = 500\n",
    "        self.num_games = 0\n",
    "        self.victory_buffer = deque(maxlen = self.logging_freq)\n",
    "        self.win = False\n",
    "        self.logger = Logger(logdir)   \n",
    "        \n",
    "        # Track yellow letters to enforce they are in the word \n",
    "        self.all_greens = set()\n",
    "        self.all_yellows = set()\n",
    "        self.all_grays = set()\n",
    "        \n",
    "    def _create_pattern(self, guess): \n",
    "        \n",
    "        # Init structures to check which letters are green and which are yellow\n",
    "        greens = dict(zip(range(5), ['']*5))\n",
    "        yellows = defaultdict(list)\n",
    "        grays = []\n",
    "\n",
    "        # Get which words belong where \n",
    "        for idx, (guess_letter, answer_letter) in enumerate(zip(guess, self.answer)): \n",
    "            if guess_letter == answer_letter: # green letter\n",
    "                greens.update({idx: guess_letter})\n",
    "            elif guess_letter in self.answer: # yellow letter\n",
    "                yellows[idx].append(guess_letter)\n",
    "                self.all_yellows.add(guess_letter)\n",
    "            else: \n",
    "                grays.append(guess_letter) # gray letter\n",
    "\n",
    "        # Remove grays from alphabet\n",
    "        self.alphabet = sorted(set(self.alphabet) - set(grays))\n",
    "\n",
    "        for i in range(5): \n",
    "\n",
    "            if greens[i] != '': \n",
    "\n",
    "                # If we have the green letter, we should just replace the whole pattern with this\n",
    "                self.patterns[i] = '[' + greens[i] + ']'\n",
    "\n",
    "            elif len(yellows[i])  > 0: \n",
    "\n",
    "                # If we get another yellow, remove it from the pattern \n",
    "                for letter in yellows[i]: \n",
    "                    self.patterns[i] = self.patterns[i].replace(letter, '')\n",
    "\n",
    "            else: \n",
    "                self.patterns[i] = '[' + ''.join(self.alphabet) + ']'\n",
    "\n",
    "\n",
    "        # Combine patterns into single new pattern \n",
    "        pattern = \"\".join(self.patterns)\n",
    "        \n",
    "        return pattern\n",
    "\n",
    "    def _compute_reward(self, guess): \n",
    "        \n",
    "        # Create pattern \n",
    "        pattern = self._create_pattern(guess)\n",
    "        \n",
    "        print(pattern)\n",
    "\n",
    "        # Get possible words by matching regex\n",
    "        new_possible_words = [word for word in self.possible_words if re.match(pattern, word)]\n",
    "        \n",
    "        # Compute reward\n",
    "        reward = (len(self.possible_words) - len(new_possible_words))/len(self.possible_words)\n",
    "        \n",
    "        # Check if won \n",
    "        won = bool(guess == self.answer)\n",
    "\n",
    "            \n",
    "        return reward, won, new_possible_words\n",
    "                \n",
    "    def step(self, action): \n",
    "        \n",
    "        # Grab decoded word \n",
    "        guess = self.valid_words[action]\n",
    "        # Compute reward\n",
    "        reward, win, new_possible_words = self._compute_reward(guess)\n",
    "        \n",
    "        # Add win/loss penalty\n",
    "        if win: \n",
    "            reward += 1\n",
    "        else: \n",
    "            reward -= 1\n",
    "        \n",
    "        # Add possible word penalty \n",
    "        if guess not in self.possible_words: \n",
    "            reward -= 1\n",
    "\n",
    "        # ACTUALLY GIVE IT THIS REWARD\n",
    "        # reward = 1 if guess not in self.possible_words else -1\n",
    "        \n",
    "        # Update state\n",
    "        self.state = np.array([1 if word in new_possible_words else 0 for word in self.valid_words], dtype=int)\n",
    "        assert(self.state.shape == self.observation_space.shape), f'{self.state.shape}'\n",
    "        self.possible_words = new_possible_words\n",
    "        self.n_possible_words = len(self.possible_words)\n",
    "\n",
    "        \n",
    "        # Increment guess count \n",
    "        self.guess_count += 1\n",
    "        \n",
    "        # Check if done\n",
    "        done = (win) or (self.guess_count == 6)\n",
    "        \n",
    "        # Info \n",
    "        info = {'guess_count': self.guess_count, 'won': win}\n",
    "        \n",
    "        self.win = win\n",
    "                \n",
    "        return self.state, reward, done, info\n",
    "        \n",
    "    def reset(self): \n",
    "\n",
    "        # Win Ratio logging\n",
    "        self.victory_buffer.append(self.win)\n",
    "        self.num_games += 1\n",
    "        if not self.num_games % self.logging_freq:\n",
    "            logs = {\n",
    "                \"win ratio\": self._compute_win_ratio()\n",
    "            }\n",
    "            self.do_logging(logs, self.num_games)\n",
    "    \n",
    "       \n",
    "        # Reset possible words = all valid words\n",
    "        self.possible_words = self.valid_words\n",
    "        self.patterns = ['[abcdefghijklmnopqrstuvwxyz]']*5\n",
    "        \n",
    "        # Reset alphabet, state and guess count\n",
    "        self.alphabet = list('abcdefghijklmnopqrstuvwxyz')\n",
    "        self.state = np.ones(len(self.valid_words), dtype = int)\n",
    "        self.guess_count = 0\n",
    "\n",
    "        # Reset answer \n",
    "        if not self.keep_answer_on_reset:\n",
    "            self.answer = np.random.choice(self.valid_words)\n",
    "        \n",
    "        \n",
    "        return self.state\n",
    " \n",
    "    def _compute_win_ratio(self):\n",
    "        \"\"\"\n",
    "        Computes the win ration of games currently in the victory buffer.\n",
    "        :return: the win ratio\n",
    "        \"\"\"\n",
    "        wins = sum(self.victory_buffer)\n",
    "        return wins/len(self.victory_buffer)\n",
    "\n",
    "    def do_logging(self, logs, num_games):\n",
    "        \"\"\"\n",
    "        :param logs: dictionary containing values to be logged\n",
    "        :param num_games: the number of games\n",
    "        :return: logs values to tensorboard\n",
    "        \"\"\"\n",
    "        print(f\"Number of Games: {num_games}\")\n",
    "        print(f\"State: \\n {self.state}\")\n",
    "        print(f\"Possible Words: \\n {self.possible_words}\")\n",
    "        print(f\"Answer: \\n {self.answer}\")\n",
    "        for key, value in logs.items():\n",
    "            print('{} : {}'.format(key, value))\n",
    "            self.logger.log_scalar(value, key, num_games)\n",
    "        print(\"\\n\")"
   ]
  },
  {
   "cell_type": "code",
   "execution_count": 94,
   "id": "13eb6850",
   "metadata": {},
   "outputs": [],
   "source": [
    "words = [word.replace('\\n', '').replace(',', '') for word in list(open('scripts/wordle_subset.txt', 'r'))]"
   ]
  },
  {
   "cell_type": "code",
   "execution_count": 95,
   "id": "ee696733",
   "metadata": {},
   "outputs": [
    {
     "name": "stdout",
     "output_type": "stream",
     "text": [
      "########################\n",
      "logging outputs to  data\n",
      "########################\n"
     ]
    }
   ],
   "source": [
    "env = WordleSimple(valid_words = words, answer = 'abide')"
   ]
  },
  {
   "cell_type": "code",
   "execution_count": 96,
   "id": "28f96c3e",
   "metadata": {},
   "outputs": [
    {
     "name": "stdout",
     "output_type": "stream",
     "text": [
      "[a][b][abcdefghijklmnopqrtvwxyz][abcdefghijklmnopqrtvwxyz][e]\n"
     ]
    },
    {
     "data": {
      "text/plain": [
       "(array([0, 0, 0, 0, 0, 0, 0, 0, 0, 0, 0, 0, 0, 0, 0, 0, 0, 0, 0, 0, 0, 0,\n",
       "        0, 0, 0, 0, 0, 0, 0, 0, 0, 0, 0, 0, 0, 0, 0, 0, 0, 0, 0, 0, 0, 0,\n",
       "        0, 0, 0, 0, 0, 0, 0, 0, 0, 0, 0, 0, 0, 0, 0, 0, 0, 0, 0, 0, 0, 0,\n",
       "        0, 0, 0, 0, 0, 0, 0, 0, 0, 0, 0, 0, 0, 0, 0, 0, 1, 0, 0, 0, 0, 0,\n",
       "        0, 0, 0, 0, 0, 0, 0, 0, 0, 0, 0, 0]),\n",
       " -0.010000000000000009,\n",
       " False,\n",
       " {'guess_count': 1, 'won': False})"
      ]
     },
     "execution_count": 96,
     "metadata": {},
     "output_type": "execute_result"
    }
   ],
   "source": [
    "env.step(env.valid_words.index('abuse'))"
   ]
  },
  {
   "cell_type": "code",
   "execution_count": 97,
   "id": "5a423ca6",
   "metadata": {},
   "outputs": [
    {
     "name": "stdout",
     "output_type": "stream",
     "text": [
      "[a][b][abcdefgijklmnopqvwxyz][abcdefgijklmnopqvwxyz][abcdefgijklmnopqvwxyz]\n"
     ]
    },
    {
     "data": {
      "text/plain": [
       "(array([0, 0, 0, 0, 0, 0, 0, 0, 0, 0, 0, 0, 0, 0, 0, 0, 0, 0, 0, 0, 0, 0,\n",
       "        0, 0, 0, 0, 0, 0, 0, 0, 0, 0, 0, 0, 0, 0, 0, 0, 0, 0, 0, 0, 0, 0,\n",
       "        0, 0, 0, 0, 0, 0, 0, 0, 0, 0, 0, 0, 0, 0, 0, 0, 0, 0, 0, 0, 0, 0,\n",
       "        0, 0, 0, 0, 0, 0, 0, 0, 0, 0, 0, 0, 0, 0, 0, 0, 1, 0, 0, 0, 0, 0,\n",
       "        0, 0, 0, 0, 0, 0, 0, 0, 0, 0, 0, 0]),\n",
       " -2.0,\n",
       " False,\n",
       " {'guess_count': 2, 'won': False})"
      ]
     },
     "execution_count": 97,
     "metadata": {},
     "output_type": "execute_result"
    }
   ],
   "source": [
    "env.step(env.valid_words.index('birth'))"
   ]
  },
  {
   "cell_type": "code",
   "execution_count": 98,
   "id": "b8f7733e",
   "metadata": {},
   "outputs": [
    {
     "data": {
      "text/plain": [
       "{'b', 'i'}"
      ]
     },
     "execution_count": 98,
     "metadata": {},
     "output_type": "execute_result"
    }
   ],
   "source": [
    "env.all_yellows"
   ]
  },
  {
   "cell_type": "code",
   "execution_count": null,
   "id": "1fbec722",
   "metadata": {},
   "outputs": [],
   "source": []
  }
 ],
 "metadata": {
  "kernelspec": {
   "display_name": "Python 3 (ipykernel)",
   "language": "python",
   "name": "python3"
  },
  "language_info": {
   "codemirror_mode": {
    "name": "ipython",
    "version": 3
   },
   "file_extension": ".py",
   "mimetype": "text/x-python",
   "name": "python",
   "nbconvert_exporter": "python",
   "pygments_lexer": "ipython3",
   "version": "3.10.8"
  }
 },
 "nbformat": 4,
 "nbformat_minor": 5
}
