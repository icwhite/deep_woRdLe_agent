{
 "cells": [
  {
   "cell_type": "code",
   "execution_count": 3,
   "id": "fbdae1fd",
   "metadata": {
    "code_folding": []
   },
   "outputs": [],
   "source": [
    "# Imports \n",
    "import numpy as np\n",
    "import gym \n",
    "from collections import defaultdict\n",
    "import re"
   ]
  },
  {
   "cell_type": "code",
   "execution_count": 4,
   "id": "6ada0c08",
   "metadata": {
    "code_folding": [
     0
    ]
   },
   "outputs": [],
   "source": [
    "# Get wordle words\n",
    "wordle_words = open(\"scripts/wordle_words.txt\", \"r\").read().split(\",\")\n",
    "wordle_words = [word.replace('\\n', '') for word in wordle_words]"
   ]
  },
  {
   "cell_type": "code",
   "execution_count": 52,
   "id": "ca18d011",
   "metadata": {
    "code_folding": [
     2,
     31,
     89,
     118
    ]
   },
   "outputs": [],
   "source": [
    "class WordleSimple(gym.Env): \n",
    "    \n",
    "    def __init__(self, \n",
    "                 n_letters: int = 5, \n",
    "                 n_guesses: int = 6, \n",
    "                 answer: str = None, \n",
    "                 valid_words: list = wordle_words, \n",
    "                 keep_answer_on_reset: bool = False): \n",
    "        \n",
    "        # Store attributes \n",
    "        self.n_letters = n_letters\n",
    "        self.n_guesses = n_guesses\n",
    "        self.valid_words = valid_words\n",
    "        self.n_valid_words = len(self.valid_words)\n",
    "        self.answer = answer if answer is not None else np.random.choice(self.valid_words)\n",
    "        self.keep_answer_on_reset = keep_answer_on_reset\n",
    "        \n",
    "        # Action + Observation Space\n",
    "        self.action_space = gym.spaces.Discrete(self.n_valid_words)\n",
    "        self.observation_space = gym.spaces.Box(low = 0, \n",
    "                                                high = 1, \n",
    "                                                shape = (self.n_valid_words,), \n",
    "                                                dtype = int)\n",
    "        \n",
    "        # Init Stuff \n",
    "        self.state = np.ones(len(self.valid_words), dtype = int)\n",
    "        self.guess_count = 0\n",
    "        self.alphabet = list('abcdefghijklmnopqrstuvwxyz')\n",
    "        self.possible_words = self.valid_words\n",
    "        self.n_possible_words = len(self.possible_words)\n",
    "        \n",
    "    def _compute_reward(self, guess): \n",
    "    \n",
    "        \n",
    "        # Init structures to check which letters are green and which are yellow\n",
    "        greens = dict(zip(range(self.n_letters), ['']*self.n_letters))\n",
    "        yellows = defaultdict(list)\n",
    "        grays = []\n",
    "        \n",
    "        # Get which words are which\n",
    "        for idx, (guess_letter, answer_letter) in enumerate(zip(guess, self.answer)): \n",
    "            \n",
    "            if guess_letter == answer_letter: \n",
    "                greens.update({idx: guess_letter})\n",
    "            elif guess_letter in self.answer: \n",
    "                yellows[idx].append(guess_letter)\n",
    "            else: \n",
    "                grays.append(guess_letter)\n",
    "                \n",
    "        # Remove gray letters from the alphabet\n",
    "        sorted(set(self.alphabet) - set(grays))\n",
    "        \n",
    "        # Create new pattern\n",
    "        pattern = r''\n",
    "        for i in range(self.n_letters):\n",
    "\n",
    "            # Check if there is green or yellow\n",
    "            is_green = greens[i] != ''\n",
    "            has_yellow = len(yellows[i])  > 0\n",
    "\n",
    "            if is_green:\n",
    "                # if green then it should just be that letter as the only option\n",
    "                letter_pattern = '[' + greens[i] + ']'\n",
    "\n",
    "            elif has_yellow:\n",
    "\n",
    "                # if yellow then it's the alphabet minus the letters that can't be there\n",
    "                letter_alphabet = [letter for letter in self.alphabet if letter not in yellows[i]]\n",
    "                letter_pattern = '[' + ''.join(letter_alphabet) + ']'\n",
    "\n",
    "            else:\n",
    "                # otherwise just the remaining alphabet\n",
    "                letter_pattern = '[' + ''.join(self.alphabet) + ']'\n",
    "\n",
    "            pattern += letter_pattern\n",
    "\n",
    "        # Filter possible words \n",
    "        new_possible_words = [word for word in self.possible_words if bool(re.match(pattern, word))]\n",
    "\n",
    "\n",
    "        # Compute reward\n",
    "        reward = (len(self.possible_words) - len(new_possible_words))/len(self.possible_words)\n",
    "        \n",
    "        # Check if won \n",
    "        won = bool(guess == self.answer)\n",
    "\n",
    "            \n",
    "        return reward, won, new_possible_words\n",
    "                \n",
    "    def step(self, action): \n",
    "        \n",
    "        # Grab decoded word \n",
    "        guess = self.valid_words[action]\n",
    "        \n",
    "        \n",
    "        # Compute reward\n",
    "        reward, won, new_possible_words = self._compute_reward(guess)\n",
    "        \n",
    "        # Add win/loss penalty\n",
    "        reward += 10 if won else -10\n",
    "        \n",
    "        # Update state\n",
    "        self.state = np.array([1 if word in new_possible_words else 0 for word in self.possible_words], dtype=int)\n",
    "        self.possible_words = new_possible_words\n",
    "        self.n_possible_words = len(self.possible_words)\n",
    "\n",
    "        \n",
    "        # Increment guess count \n",
    "        self.guess_count += 1\n",
    "        \n",
    "        # Check if done\n",
    "        done = (won) or (self.guess_count == self.n_guesses)\n",
    "        \n",
    "        # Info \n",
    "        info = {'guess_count': self.guess_count, 'won': won}\n",
    "        \n",
    "        return self.state, reward, done, info\n",
    "        \n",
    "    def reset(self): \n",
    "       \n",
    "        # Reset possible words = all valid words\n",
    "        self.possible_words = self.valid_words\n",
    "        \n",
    "        # Reset alphabet, state and guess count\n",
    "        self.alphabet = list('abcdefghijklmnopqrstuvwxyz')\n",
    "        self.state = np.ones(len(self.valid_words), dtype = int)\n",
    "        self.guess_count = 0\n",
    "        \n",
    "        \n",
    "        return self.state"
   ]
  },
  {
   "cell_type": "code",
   "execution_count": 53,
   "id": "74fd8728",
   "metadata": {},
   "outputs": [],
   "source": [
    "env = WordleSimple(answer = 'adore')"
   ]
  },
  {
   "cell_type": "code",
   "execution_count": 54,
   "id": "3e88f0d2",
   "metadata": {},
   "outputs": [
    {
     "data": {
      "text/plain": [
       "2310"
      ]
     },
     "execution_count": 54,
     "metadata": {},
     "output_type": "execute_result"
    }
   ],
   "source": [
    "env.n_possible_words"
   ]
  },
  {
   "cell_type": "code",
   "execution_count": null,
   "id": "6d60464f",
   "metadata": {},
   "outputs": [],
   "source": []
  }
 ],
 "metadata": {
  "kernelspec": {
   "display_name": "Python 3 (ipykernel)",
   "language": "python",
   "name": "python3"
  },
  "language_info": {
   "codemirror_mode": {
    "name": "ipython",
    "version": 3
   },
   "file_extension": ".py",
   "mimetype": "text/x-python",
   "name": "python",
   "nbconvert_exporter": "python",
   "pygments_lexer": "ipython3",
   "version": "3.9.12"
  }
 },
 "nbformat": 4,
 "nbformat_minor": 5
}
